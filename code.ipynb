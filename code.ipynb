{
 "cells": [
  {
   "cell_type": "code",
   "execution_count": 2,
   "metadata": {},
   "outputs": [],
   "source": [
    "\n",
    "# =============================================================================\n",
    "# Assignment Proxima\n",
    "# =============================================================================\n",
    "\n",
    "\n",
    "# Load all needed modules\n",
    "import pandas as pd\n",
    "import numpy as np\n",
    "import matplotlib.pyplot as plt\n",
    "import seaborn as sns\n",
    "\n",
    "\n",
    "# Import datasets\n",
    "df_0 = pd.read_excel('https://drive.google.com/uc?export=download&id=1zcAObv2swOcR5vZD_DTVGgC78hqf2GnZ', sheet_name=0, header=0)\n",
    "\n",
    "df_1 = pd.read_csv('https://drive.google.com/uc?export=download&id=1n_CVbn4GluIvXn86EutbXwQR-pNabS-a', header=0, sep=';', encoding='cp1251')\n",
    "\n",
    "df_2 = pd.read_excel('https://drive.google.com/uc?export=download&id=19WgS_gBR5zvGkLnC5LvBvNwPcRFilp-j', sheet_name=0, header=0, skiprows=3, usecols=lambda x: 'Unnamed' not in x)\n",
    "\n",
    "df_id = pd.read_excel('https://drive.google.com/uc?export=download&id=1RpO_9mxyxoA5ATK6ob5UdeCCkaSUalJR', sheet_name=0, header=0)\n",
    "\n",
    "df_period = pd.read_excel('https://drive.google.com/uc?export=download&id=1adj2j5k6Q6_O02epS-CQvwSasCHjNf-t', sheet_name=0, header=0)\n"
   ]
  },
  {
   "cell_type": "code",
   "execution_count": null,
   "metadata": {},
   "outputs": [],
   "source": [
    "# Check data types, indexes, NaN values\n",
    "df_0.info()\n",
    "df_0.columns\n",
    "df_0.head(10)\n",
    "\n",
    "df_1.info()\n",
    "df_1.columns\n",
    "df_1.head(10)\n",
    "\n",
    "df_2.info()\n",
    "df_2.columns\n",
    "df_2.head(10)\n",
    "\n",
    "df_id.info()\n",
    "df_id.columns\n",
    "df_id.head(10)\n",
    "\n",
    "df_period.info()\n",
    "df_period.columns\n",
    "df_period.head(10)\n"
   ]
  },
  {
   "cell_type": "code",
   "execution_count": null,
   "metadata": {},
   "outputs": [],
   "source": [
    "# Convert df1 to a plain table\n",
    "# Add empty PERIOD_ID\n",
    "for i in range(len(df_1['DRUGS_ID'])):\n",
    "    if str(df_1['DRUGS_ID'][i]) == 'nan':\n",
    "        df_1.loc[i,'DRUGS_ID'] = df_1['DRUGS_ID'][i-1]\n",
    "        \n",
    "# Melt datetime columns to a rows\n",
    "df_1_melt = df_1.melt(id_vars=['DRUGS_ID', 'Тип'], var_name='PERIOD_ID')\n",
    "df_1_melt\n",
    "\n",
    "# Convert data types\n",
    "df_1_melt[['value']] = df_1_melt['value'].str.replace(\",\", \".\").astype(\"float\")\n",
    "df_1_melt[['DRUGS_ID']] = df_1_melt[['DRUGS_ID']].astype(\"int64\")\n",
    "df_1_melt[['PERIOD_ID']] = df_1_melt[['PERIOD_ID']].astype(\"int64\")\n",
    "\n",
    "\n",
    "# Make pivot table from 'type' column \n",
    "df_1_pivot = pd.pivot_table(df_1_melt, \n",
    "                  index = ['PERIOD_ID', 'DRUGS_ID'], \n",
    "                  columns = 'Тип', \n",
    "                  values = 'value').reset_index().rename_axis(None, axis=1)\n",
    "\n",
    "pd.set_option('display.float_format', lambda x: '%.2f' % x)\n",
    "df_1 = df_1_pivot[['PERIOD_ID', 'DRUGS_ID', 'VOLUME', 'QUANTITY']]\n",
    "\n",
    "\n",
    "# change data type for column in df2\n",
    "df_2['QUANTITY'] = df_2['QUANTITY'].apply(pd.to_numeric, errors='coerce').fillna(0)\n",
    "df_2.info()"
   ]
  },
  {
   "cell_type": "code",
   "execution_count": null,
   "metadata": {},
   "outputs": [],
   "source": [
    "## Quick statistics\n",
    "df_0.describe()\n",
    "df_1.describe()\n",
    "df_2.describe()\n",
    "df_period.describe()\n",
    "df_id.describe()\n"
   ]
  },
  {
   "cell_type": "code",
   "execution_count": null,
   "metadata": {},
   "outputs": [],
   "source": [
    "## Join tables\n",
    "\n",
    "# We can connect all datasets in SQL style\n",
    "# Let's join ver_o, Drugs_id, PERIOD_ID\n",
    "drugs_connect = pd.merge(df_0, df_id, on='DRUGS_ID', how=\"left\")\n",
    "all_connect = pd.merge(drugs_connect, df_period, on='PERIOD_ID', how=\"left\")\n",
    "all_connect.info()\n",
    "\n",
    "drugs_sales = all_connect[['Date', 'Brand', 'Market Org', 'Full medication name', 'VOLUME', 'QUANTITY']]\n",
    "drugs_sales.info()\n",
    "drugs_sales\n"
   ]
  },
  {
   "cell_type": "code",
   "execution_count": null,
   "metadata": {},
   "outputs": [],
   "source": [
    "## Group analysis\n",
    "\n",
    "# count number of unique entries\n",
    "drugs_sales.nunique()\n",
    "\n",
    "\n",
    "## group with one variable\n"
   ]
  },
  {
   "cell_type": "code",
   "execution_count": null,
   "metadata": {},
   "outputs": [],
   "source": [
    "# best selling Brands\n",
    "drugs_brand = drugs_sales.groupby(['Brand'], as_index=False).sum().sort_values(['QUANTITY'], ascending=False)\n",
    "drugs_brand\n"
   ]
  },
  {
   "cell_type": "code",
   "execution_count": null,
   "metadata": {},
   "outputs": [],
   "source": [
    "# Visualize brand sales using barplot\n",
    "sns.set_style('darkgrid')\n",
    "sns.barplot(x='Brand', y='QUANTITY', data=drugs_brand, ci = None)\n",
    "plt.xticks(rotation = 'vertical')\n",
    "plt.ticklabel_format(style='plain', axis='y')"
   ]
  },
  {
   "cell_type": "code",
   "execution_count": null,
   "metadata": {},
   "outputs": [],
   "source": [
    "# best selling Market Org\n",
    "drugs_org = drugs_sales.groupby(['Market Org'], as_index=False).sum().sort_values(['QUANTITY'], ascending=False)\n",
    "drugs_org"
   ]
  },
  {
   "cell_type": "code",
   "execution_count": null,
   "metadata": {},
   "outputs": [],
   "source": [
    "# Visualize sales by organization using barplot\n",
    "sns.set_style('darkgrid')\n",
    "sns.barplot(x='Market Org', y='QUANTITY', data=drugs_org, ci = None)\n",
    "plt.xticks(rotation = 'vertical')\n",
    "plt.ticklabel_format(style='plain', axis='y')"
   ]
  },
  {
   "cell_type": "code",
   "execution_count": null,
   "metadata": {},
   "outputs": [],
   "source": [
    "# sort sales by date\n",
    "drugs_date = drugs_sales.groupby(['Date'], as_index=False).sum().sort_values(['QUANTITY'], ascending=False)\n",
    "drugs_date\n",
    "drugs_date[['Date']] = drugs_date['Date'].dt.date"
   ]
  },
  {
   "cell_type": "code",
   "execution_count": null,
   "metadata": {},
   "outputs": [],
   "source": [
    "# Visualize sales by date using barplot\n",
    "sns.set_style('darkgrid')\n",
    "sns.barplot(x='Date', y='QUANTITY', data=drugs_date, ci = None)\n",
    "plt.xticks(rotation = 'vertical')\n",
    "plt.ticklabel_format(style='plain', axis='y')"
   ]
  },
  {
   "cell_type": "code",
   "execution_count": null,
   "metadata": {},
   "outputs": [],
   "source": [
    "# sort sales by name\n",
    "drugs_name = drugs_sales.groupby(['Full medication name'], as_index=False).sum().sort_values(['QUANTITY'], ascending=False)\n",
    "drugs_name.index = grouped_pivot.index.strftime('%d-%m-%Y')"
   ]
  },
  {
   "cell_type": "code",
   "execution_count": null,
   "metadata": {},
   "outputs": [],
   "source": [
    "## group with multiple variables\n",
    "\n",
    "# Grouping by Date and Brand, sort by QUANTITY\n",
    "drugs_d_b = drugs_sales.groupby(['Date', 'Brand']).sum().groupby(level=0, group_keys=False).apply(lambda x: x.sort_values('QUANTITY', ascending=False))\n",
    "drugs_d_b\n"
   ]
  },
  {
   "cell_type": "code",
   "execution_count": null,
   "metadata": {},
   "outputs": [],
   "source": [
    "# Grouping by Date and Brand, sort by VOLUME\n",
    "drugs_sales.groupby(['Date', 'Brand']).sum().groupby(level=0, group_keys=False).apply(lambda x: x.sort_values('VOLUME', ascending=False))"
   ]
  },
  {
   "cell_type": "code",
   "execution_count": null,
   "metadata": {},
   "outputs": [],
   "source": [
    "# Visualize grouped table using Scatterplot with varying point sizes\n",
    "sns.set_theme(style=\"white\")\n",
    "sns.relplot(x=\"Date\", y=\"Brand\", size=\"QUANTITY\",\\\n",
    "            sizes=(40, 400), palette=\"muted\",\\\n",
    "            height=6, data=drugs_d_b)\n",
    "plt.xticks(rotation = 'vertical')"
   ]
  },
  {
   "cell_type": "code",
   "execution_count": null,
   "metadata": {},
   "outputs": [],
   "source": [
    "sns.set_theme(style=\"white\")\n",
    "sns.relplot(x=\"Date\", y=\"Brand\", size=\"VOLUME\",\\\n",
    "            sizes=(40, 400), palette=\"muted\",\\\n",
    "            height=6, data=drugs_d_b)\n",
    "plt.xticks(rotation = 'vertical')"
   ]
  },
  {
   "cell_type": "code",
   "execution_count": null,
   "metadata": {},
   "outputs": [],
   "source": [
    "# Grouping with a pivot method\n",
    "grouped = all_connect[['Date', 'Brand', 'QUANTITY']].groupby(['Date', 'Brand'],as_index=False).sum()\n",
    "grouped_pivot = grouped.pivot(index='Date',columns='Brand')\n",
    "grouped_pivot = grouped_pivot.fillna(0)\n",
    "grouped_pivot.index = grouped_pivot.index.strftime('%d-%m-%Y')\n",
    "grouped_pivot\n"
   ]
  },
  {
   "cell_type": "code",
   "execution_count": null,
   "metadata": {},
   "outputs": [],
   "source": [
    "# Visualize pivot table using Heatmap \n",
    "fig, ax = plt.subplots()\n",
    "im = ax.pcolor(grouped_pivot, cmap='RdBu')\n",
    "row_labels = grouped_pivot.columns.levels[1]\n",
    "col_labels = grouped_pivot.index\n",
    "ax.set_xticks(np.arange(grouped_pivot.shape[1]) + 0.5, minor=False)\n",
    "ax.set_yticks(np.arange(grouped_pivot.shape[0]) + 0.5, minor=False)\n",
    "ax.set_xticklabels(row_labels, minor=False)\n",
    "ax.set_yticklabels(col_labels, minor=False)\n",
    "plt.xticks(rotation=90)\n",
    "fig.colorbar(im)\n",
    "plt.show()"
   ]
  },
  {
   "cell_type": "code",
   "execution_count": null,
   "metadata": {},
   "outputs": [],
   "source": [
    "## growth rate\n",
    "\n",
    "# find out growth rate in percents by period\n",
    "drugs_date_grow = drugs_sales.groupby(['Date'], as_index=False).sum().sort_values(['Date'])\n",
    "drugs_date_grow\n",
    "\n",
    "drugs_date_grow['v_chg']=drugs_date_grow['VOLUME'].pct_change()\n",
    "drugs_date_grow['q_chg']=drugs_date_grow['QUANTITY'].pct_change()\n",
    "drugs_date_grow\n"
   ]
  },
  {
   "cell_type": "code",
   "execution_count": null,
   "metadata": {},
   "outputs": [],
   "source": [
    "# find out growth rate in percents for brand by period\n",
    "\n",
    "# prepare grouping\n",
    "drugs_d_b_grow = drugs_sales.groupby(['Date', 'Brand'], as_index=False).sum().sort_values(['Brand', 'Date'])\n",
    "drugs_d_b_grow['q_chg'] = drugs_d_b_grow.groupby(['Brand','Date'])['QUANTITY'].pct_change()\n",
    "drugs_d_b_grow\n"
   ]
  },
  {
   "cell_type": "code",
   "execution_count": null,
   "metadata": {},
   "outputs": [],
   "source": [
    "# calculate growth rate for brand by period in corresponding columns\n",
    "drugs_d_b_grow['v_chg'] = drugs_d_b_grow.sort_values('Date').groupby('Brand').VOLUME.pct_change()\n",
    "\n",
    "drugs_d_b_grow['q_chg'] = drugs_d_b_grow.sort_values('Date').groupby('Brand').QUANTITY.pct_change()\n",
    "\n",
    "drugs_d_b_grow = drugs_d_b_grow.fillna(0)\n",
    "\n",
    "drugs_d_b_grow\n"
   ]
  },
  {
   "cell_type": "code",
   "execution_count": null,
   "metadata": {},
   "outputs": [],
   "source": [
    "# Visualize growth rate for brand by period\n",
    "\n",
    "# datasets with growth rate\n",
    "d_q = drugs_d_b_grow[['Date', 'Brand', 'q_chg']]\n",
    "d_v = drugs_d_b_grow[['Date', 'Brand', 'v_chg']]"
   ]
  },
  {
   "cell_type": "code",
   "execution_count": null,
   "metadata": {},
   "outputs": [],
   "source": [
    "# prepare pivot tables for plotting\n",
    "data_q = d_q.pivot(index='Date',columns='Brand', values='q_chg').rename_axis(None, axis=1).fillna(0)\n",
    "data_v = d_v.pivot(index='Date',columns='Brand', values='v_chg').rename_axis(None, axis=1).fillna(0)\n",
    "\n",
    "data_q\n",
    "data_v\n"
   ]
  },
  {
   "cell_type": "code",
   "execution_count": null,
   "metadata": {},
   "outputs": [],
   "source": [
    "# Visualize growth rate(QUANTITY) in percents for brand by period using lineplot\n",
    "sns.set_theme(style=\"whitegrid\")\n",
    "ax = sns.lineplot(data=data_q, palette=\"tab10\")\n",
    "plt.legend(fontsize='xx-small')\n",
    "plt.xticks(rotation = 'vertical')"
   ]
  },
  {
   "cell_type": "code",
   "execution_count": null,
   "metadata": {},
   "outputs": [],
   "source": [
    "# Visualize growth rate(VOLUME) in percents for brand by period using lineplot\n",
    "sns.set_theme(style=\"whitegrid\")\n",
    "ax = sns.lineplot(data=data_v, palette=\"tab10\")\n",
    "plt.legend(fontsize='xx-small')\n",
    "plt.xticks(rotation = 'vertical')"
   ]
  },
  {
   "cell_type": "code",
   "execution_count": null,
   "metadata": {},
   "outputs": [],
   "source": [
    "\n",
    "# *\n",
    "\n",
    "# rename columns\n",
    "df_0 = df_0.rename(columns={'PERIOD_ID': '0_PERIOD_ID', 'DRUGS_ID': '0_DRUGS_ID', 'VOLUME': '0_VOLUME', 'QUANTITY': '0_QUANTITY'})\n",
    "\n",
    "df_1 = df_1.rename(columns={'PERIOD_ID': '1_PERIOD_ID', 'DRUGS_ID': '1_DRUGS_ID', 'VOLUME': '1_VOLUME', 'QUANTITY': '1_QUANTITY'})\n",
    "\n",
    "df_2 = df_2.rename(columns={'PERIOD_ID': '2_PERIOD_ID', 'DRUGS_ID': '2_DRUGS_ID', 'VOLUME': '2_VOLUME', 'QUANTITY': '2_QUANTITY'})\n",
    "\n",
    "# join tables by version\n",
    "drugs_connect_0 = pd.merge(df_0, df_id, left_on='0_DRUGS_ID', right_on='DRUGS_ID', how=\"left\")\n",
    "\n",
    "all_connect_0 = pd.merge(drugs_connect_0, df_period, left_on='0_PERIOD_ID', right_on='PERIOD_ID', how=\"left\")\n",
    "all_connect_0.info()\n",
    "\n",
    "\n",
    "drugs_connect_1 = pd.merge(df_1, df_id, left_on='1_DRUGS_ID', right_on='DRUGS_ID', how=\"left\")\n",
    "\n",
    "all_connect_1 = pd.merge(drugs_connect_1, df_period, left_on='1_PERIOD_ID', right_on='PERIOD_ID', how=\"left\")\n",
    "all_connect_1.info()\n",
    "\n",
    "\n",
    "drugs_connect_2 = pd.merge(df_2, df_id, left_on='2_DRUGS_ID', right_on='DRUGS_ID', how=\"left\")\n",
    "\n",
    "all_connect_2 = pd.merge(drugs_connect_2, df_period, left_on='2_PERIOD_ID', right_on='PERIOD_ID', how=\"left\")\n",
    "all_connect_2.info()\n",
    "\n",
    "\n",
    "\n",
    "# Group all sets by Full medication name\n",
    "drugs_sales_0 = all_connect_0[['Date', 'Brand', 'Market Org', 'Full medication name', '0_VOLUME', '0_QUANTITY']]\n",
    "\n",
    "drugs_name_0 = drugs_sales_0.groupby(['Full medication name'], as_index=False).sum().sort_values(['0_QUANTITY'], ascending=False)\n",
    "\n",
    "\n",
    "drugs_sales_1 = all_connect_1[['Date', 'Brand', 'Market Org', 'Full medication name', '1_VOLUME', '1_QUANTITY']]\n",
    "\n",
    "drugs_name_1 = drugs_sales_1.groupby(['Full medication name'], as_index=False).sum().sort_values(['1_QUANTITY'], ascending=False)\n",
    "\n",
    "\n",
    "drugs_sales_2 = all_connect_2[['Date', 'Brand', 'Market Org', 'Full medication name', '2_VOLUME', '2_QUANTITY']]\n",
    "\n",
    "drugs_name_2 = drugs_sales_2.groupby(['Full medication name'], as_index=False).sum().sort_values(['2_QUANTITY'], ascending=False)\n",
    "\n",
    "\n",
    "\n",
    "# join grouped tables in one\n",
    "drugs_name_m1 = pd.merge(drugs_name_0, drugs_name_1, on='Full medication name', how='left')\n",
    "\n",
    "drugs_name_m2 = pd.merge(drugs_name_m1, drugs_name_2, on='Full medication name', how=\"left\")\n",
    "\n",
    "\n",
    "# \n",
    "drugs_name_m2['0-1'] = abs(drugs_name_m2['0_QUANTITY'] - drugs_name_m2['1_QUANTITY'])\n",
    "\n",
    "drugs_name_m2['0-2'] = abs(drugs_name_m2['0_QUANTITY'] - drugs_name_m2['2_QUANTITY'])\n",
    "\n",
    "\n",
    "drugs_name_m2[['0-1', '0-2']]\n",
    "drugs_name_m2[['0-1']].sum()\n",
    "drugs_name_m2[['0-2']].sum()\n",
    "\n",
    "# df_2 is less different from production dataset df_0\n",
    "\n"
   ]
  }
 ],
 "metadata": {
  "kernelspec": {
   "display_name": "Python 3",
   "language": "python",
   "name": "python3"
  },
  "language_info": {
   "codemirror_mode": {
    "name": "ipython",
    "version": 3
   },
   "file_extension": ".py",
   "mimetype": "text/x-python",
   "name": "python",
   "nbconvert_exporter": "python",
   "pygments_lexer": "ipython3",
   "version": "3.7.6"
  }
 },
 "nbformat": 4,
 "nbformat_minor": 4
}
